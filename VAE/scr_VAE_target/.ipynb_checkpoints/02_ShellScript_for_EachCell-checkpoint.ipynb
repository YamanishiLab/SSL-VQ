{
 "cells": [
  {
   "cell_type": "markdown",
   "id": "e6f1aaa1",
   "metadata": {},
   "source": [
    "# Make shell script for each cell line."
   ]
  },
  {
   "cell_type": "code",
   "execution_count": 4,
   "id": "74f41efe",
   "metadata": {},
   "outputs": [],
   "source": [
    "import pandas as pd\n",
    "import numpy as np\n",
    "import os, glob"
   ]
  },
  {
   "cell_type": "code",
   "execution_count": 11,
   "id": "ed8b5f92",
   "metadata": {},
   "outputs": [],
   "source": [
    "# ====== Setting ====== #\n",
    "\n",
    "# Perturbed type.\n",
    "pert_list = ['trt_sh.cgs', 'trt_oe']\n",
    "# pert_list = ['trt_oe']"
   ]
  },
  {
   "cell_type": "code",
   "execution_count": 12,
   "id": "bad70c32",
   "metadata": {
    "scrolled": true
   },
   "outputs": [],
   "source": [
    "# コマンド記述\n",
    "o_f = \"./03_Calculate_for_EachCell.sh\"\n",
    "out = open(o_f,\"w\")\n",
    "out.write(\"#/bin/sh\\n\")\n",
    "out.write(\"\\n\")\n",
    "out.close()  \n",
    "\n",
    "\n",
    "\n",
    "for pert_type in pert_list:\n",
    "    \n",
    "    # Read the data, which contains smiles, inchikey, and gene values\n",
    "    data = pd.read_csv( f'../../../LINCS/latest_version/imputation/imputed_data/{pert_type}.txt', sep='\\t' )\n",
    "    cell_lines = sorted(set(data['cell_mfc_name'])) # Cell lines.\n",
    "    \n",
    "    for cell in cell_lines:\n",
    "\n",
    "        out = open(o_f,\"a\")\n",
    "        com1 = f\"python3 ./01_Target.py --pert_type={pert_type} --cell_name={cell}\\n\"\n",
    "        out.write(str(com1))\n",
    "        out.close()"
   ]
  }
 ],
 "metadata": {
  "kernelspec": {
   "display_name": "Python 3 (ipykernel)",
   "language": "python",
   "name": "python3"
  },
  "language_info": {
   "codemirror_mode": {
    "name": "ipython",
    "version": 3
   },
   "file_extension": ".py",
   "mimetype": "text/x-python",
   "name": "python",
   "nbconvert_exporter": "python",
   "pygments_lexer": "ipython3",
   "version": "3.9.12"
  }
 },
 "nbformat": 4,
 "nbformat_minor": 5
}
