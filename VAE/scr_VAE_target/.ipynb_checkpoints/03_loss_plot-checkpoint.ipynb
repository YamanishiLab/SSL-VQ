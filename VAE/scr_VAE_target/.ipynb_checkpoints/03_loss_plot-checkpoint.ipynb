{
 "cells": [
  {
   "cell_type": "code",
   "execution_count": 1,
   "id": "5b2211e8",
   "metadata": {},
   "outputs": [],
   "source": [
    "# plot losses."
   ]
  },
  {
   "cell_type": "code",
   "execution_count": 4,
   "id": "058c9f57",
   "metadata": {},
   "outputs": [],
   "source": [
    "import matplotlib.pyplot as plt\n",
    "import seaborn as sns\n",
    "import pandas as pd"
   ]
  },
  {
   "cell_type": "code",
   "execution_count": 24,
   "id": "0663c303",
   "metadata": {},
   "outputs": [],
   "source": [
    "# dir = \"/Users/nanbasatoko/Documents/target_repositioning4/VAE/data/VAE/trt_sh.cgs/CellLine_All/Epo2000_Lr0.0001_Hid512_256_128_Lat64_Bat64_Dro0.2/\"\n",
    "# dir = \"/Users/nanbasatoko/Documents/target_repositioning4/VAE/data/VAE/trt_oe/CellLine_All/Epo2000_Lr0.0001_Hid512_256_128_Lat64_Bat64_Dro0.2\"\n",
    "# dir = \"/Users/nanbasatoko/Documents/target_repositioning4/VAE/data/VAE/disease/disease_signature.tabs/Epo2000_Lr0.0001_Hid512_256_128_Lat64_Bat64_Dro0.2\"\n",
    "dir = \"/Users/nanbasatoko/Documents/target_repositioning4/VAE/data/VAE/disease/patient_signature.tabs/Epo2000_Lr0.0001_Hid512_256_128_Lat64_Bat64_Dro0.2\""
   ]
  },
  {
   "cell_type": "code",
   "execution_count": 25,
   "id": "1c5adec3",
   "metadata": {},
   "outputs": [
    {
     "data": {
      "text/html": [
       "<div>\n",
       "<style scoped>\n",
       "    .dataframe tbody tr th:only-of-type {\n",
       "        vertical-align: middle;\n",
       "    }\n",
       "\n",
       "    .dataframe tbody tr th {\n",
       "        vertical-align: top;\n",
       "    }\n",
       "\n",
       "    .dataframe thead th {\n",
       "        text-align: right;\n",
       "    }\n",
       "</style>\n",
       "<table border=\"1\" class=\"dataframe\">\n",
       "  <thead>\n",
       "    <tr style=\"text-align: right;\">\n",
       "      <th></th>\n",
       "      <th>Epoch</th>\n",
       "      <th>Joint</th>\n",
       "      <th>Rec</th>\n",
       "      <th>KLD</th>\n",
       "    </tr>\n",
       "  </thead>\n",
       "  <tbody>\n",
       "    <tr>\n",
       "      <th>0</th>\n",
       "      <td>1</td>\n",
       "      <td>46.418</td>\n",
       "      <td>0.003</td>\n",
       "      <td>0.002</td>\n",
       "    </tr>\n",
       "    <tr>\n",
       "      <th>1</th>\n",
       "      <td>2</td>\n",
       "      <td>31.441</td>\n",
       "      <td>0.002</td>\n",
       "      <td>0.002</td>\n",
       "    </tr>\n",
       "    <tr>\n",
       "      <th>2</th>\n",
       "      <td>3</td>\n",
       "      <td>23.444</td>\n",
       "      <td>0.002</td>\n",
       "      <td>0.002</td>\n",
       "    </tr>\n",
       "    <tr>\n",
       "      <th>3</th>\n",
       "      <td>4</td>\n",
       "      <td>18.548</td>\n",
       "      <td>0.001</td>\n",
       "      <td>0.002</td>\n",
       "    </tr>\n",
       "    <tr>\n",
       "      <th>4</th>\n",
       "      <td>5</td>\n",
       "      <td>15.453</td>\n",
       "      <td>0.001</td>\n",
       "      <td>0.002</td>\n",
       "    </tr>\n",
       "  </tbody>\n",
       "</table>\n",
       "</div>"
      ],
      "text/plain": [
       "   Epoch   Joint    Rec    KLD\n",
       "0      1  46.418  0.003  0.002\n",
       "1      2  31.441  0.002  0.002\n",
       "2      3  23.444  0.002  0.002\n",
       "3      4  18.548  0.001  0.002\n",
       "4      5  15.453  0.001  0.002"
      ]
     },
     "execution_count": 25,
     "metadata": {},
     "output_type": "execute_result"
    }
   ],
   "source": [
    "i_f = f\"{dir}/gene_vae_train_results.csv\"\n",
    "df = pd.read_csv( i_f, sep = ',')\n",
    "df.head()"
   ]
  },
  {
   "cell_type": "code",
   "execution_count": 26,
   "id": "f7c17aeb",
   "metadata": {},
   "outputs": [
    {
     "name": "stderr",
     "output_type": "stream",
     "text": [
      "/var/folders/lw/6z_pm1rj6fgbk3b8f0jgkr7c0000gq/T/ipykernel_14747/1388538871.py:3: MatplotlibDeprecationWarning: savefig() got unexpected keyword argument \"exist_ok\" which is no longer supported as of 3.3 and will become an error two minor releases later\n",
      "  plt.savefig(o_f, exist_ok = True)\n"
     ]
    },
    {
     "data": {
      "image/png": "[encoded data removed]",
      "text/plain": [
       "<Figure size 360x360 with 1 Axes>"
      ]
     },
     "metadata": {
      "needs_background": "light"
     },
     "output_type": "display_data"
    }
   ],
   "source": [
    "sns.relplot(x='Epoch', y='Joint', data=df, kind='line')\n",
    "o_f = f\"{dir}/Joint.png\"\n",
    "plt.savefig(o_f, exist_ok = True)\n",
    "\n",
    "plt.show()"
   ]
  },
  {
   "cell_type": "code",
   "execution_count": 27,
   "id": "753306ee",
   "metadata": {},
   "outputs": [
    {
     "name": "stderr",
     "output_type": "stream",
     "text": [
      "/var/folders/lw/6z_pm1rj6fgbk3b8f0jgkr7c0000gq/T/ipykernel_14747/3669249155.py:3: MatplotlibDeprecationWarning: savefig() got unexpected keyword argument \"exist_ok\" which is no longer supported as of 3.3 and will become an error two minor releases later\n",
      "  plt.savefig(o_f, exist_ok = True)\n"
     ]
    },
    {
     "data": {
      "image/png": "[encoded data removed]",
      "text/plain": [
       "<Figure size 360x360 with 1 Axes>"
      ]
     },
     "metadata": {
      "needs_background": "light"
     },
     "output_type": "display_data"
    }
   ],
   "source": [
    "sns.relplot(x='Epoch', y='Rec', data=df, kind='line')\n",
    "o_f = f\"{dir}/Rec.png\"\n",
    "plt.savefig(o_f, exist_ok = True)"
   ]
  },
  {
   "cell_type": "code",
   "execution_count": 28,
   "id": "59f752a4",
   "metadata": {},
   "outputs": [
    {
     "name": "stderr",
     "output_type": "stream",
     "text": [
      "/var/folders/lw/6z_pm1rj6fgbk3b8f0jgkr7c0000gq/T/ipykernel_14747/2157348967.py:3: MatplotlibDeprecationWarning: savefig() got unexpected keyword argument \"exist_ok\" which is no longer supported as of 3.3 and will become an error two minor releases later\n",
      "  plt.savefig(o_f, exist_ok = True)\n"
     ]
    },
    {
     "data": {
      "image/png": "[encoded data removed]",
      "text/plain": [
       "<Figure size 360x360 with 1 Axes>"
      ]
     },
     "metadata": {
      "needs_background": "light"
     },
     "output_type": "display_data"
    }
   ],
   "source": [
    "sns.relplot(x='Epoch', y='KLD', data=df, kind='line')\n",
    "o_f = f\"{dir}/Kld.png\"\n",
    "plt.savefig(o_f, exist_ok = True)"
   ]
  }
 ],
 "metadata": {
  "kernelspec": {
   "display_name": "Python 3 (ipykernel)",
   "language": "python",
   "name": "python3"
  },
  "language_info": {
   "codemirror_mode": {
    "name": "ipython",
    "version": 3
   },
   "file_extension": ".py",
   "mimetype": "text/x-python",
   "name": "python",
   "nbconvert_exporter": "python",
   "pygments_lexer": "ipython3",
   "version": "3.9.12"
  }
 },
 "nbformat": 4,
 "nbformat_minor": 5
}
