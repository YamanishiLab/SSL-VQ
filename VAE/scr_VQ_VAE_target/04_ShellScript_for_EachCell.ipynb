{
 "cells": [
  {
   "cell_type": "markdown",
   "id": "e6f1aaa1",
   "metadata": {},
   "source": [
    "# Make shell script for each cell line."
   ]
  },
  {
   "cell_type": "code",
   "execution_count": 6,
   "id": "74f41efe",
   "metadata": {},
   "outputs": [],
   "source": [
    "import pandas as pd\n",
    "import numpy as np\n",
    "import os, glob"
   ]
  },
  {
   "cell_type": "code",
   "execution_count": 7,
   "id": "ed8b5f92",
   "metadata": {},
   "outputs": [],
   "source": [
    "# ====== Setting ====== #\n",
    "\n",
    "# Perturbed type.\n",
    "pert_list = ['trt_sh.cgs', 'trt_oe']\n",
    "# pert_list = ['trt_oe']\n",
    "\n",
    "# Cell missing rate.\n",
    "cell_missing_rate = 0.1\n",
    "\n",
    "# Hidden layer sizes.\n",
    "hidde_layer_size_list = [ \n",
    "#     [1024,512,256],\n",
    "    [512,256,128],\n",
    "#     [256,128,64],\n",
    "#     [128,64,32]\n",
    "]\n",
    "\n",
    "# Codebook size.\n",
    "gene_num_emb_list = [\n",
    "#     128,\n",
    "    64\n",
    "]"
   ]
  },
  {
   "cell_type": "code",
   "execution_count": 8,
   "id": "2e2a2ca2",
   "metadata": {},
   "outputs": [],
   "source": [
    "# ============================================================================\n",
    "# Select cell lines based on missing rates.\n",
    "# ============================================================================\n",
    "def select_clls_based_on_missing_rates(pert_type):\n",
    "\n",
    "    # Missing rate data.\n",
    "    i_f = \"../../../target_repositioning2/multitask/data/LINCS/cell_kdoe_list.txt\"\n",
    "    miss_df = pd.read_csv( i_f, sep ='\\t', encoding='shift-jis' )\n",
    "\n",
    "    if pert_type == 'trt_sh.cgs':\n",
    "        col_name = 'kd_missing'\n",
    "    elif pert_type == 'trt_oe':\n",
    "        col_name = 'oe_missing'\n",
    "\n",
    "    # Select cell lines based on missing rate.\n",
    "    miss_df = miss_df.dropna(subset=col_name) # Select overexpression signature's cells\n",
    "    miss_df = miss_df[miss_df[col_name] >= cell_missing_rate ] # Select cell lines based on missing rate\n",
    "    cell_lines = sorted(set(miss_df['cell'])) # Cell line list.\n",
    "\n",
    "    return cell_lines"
   ]
  },
  {
   "cell_type": "code",
   "execution_count": 10,
   "id": "bad70c32",
   "metadata": {
    "scrolled": true
   },
   "outputs": [],
   "source": [
    "# コマンド記述\n",
    "o_f = \"./05_Calculate_for_EachCell.sh\"\n",
    "out = open(o_f,\"w\")\n",
    "out.write(\"#/bin/sh\\n\")\n",
    "out.write(\"\\n\")\n",
    "out.close()  \n",
    "\n",
    "\n",
    "\n",
    "for pert_type in pert_list:\n",
    "    \n",
    "    # Cell lines.\n",
    "    cell_lines = select_clls_based_on_missing_rates(pert_type)\n",
    "    \n",
    "#     # Read the data, which contains smiles, inchikey, and gene values\n",
    "#     data = pd.read_csv( f'../../../LINCS/latest_version/imputation/imputed_data/{pert_type}.txt', sep='\\t' )\n",
    "#     cell_lines = sorted(set(data['cell_mfc_name'])) # Cell lines.\n",
    "    \n",
    "    for cell in cell_lines:\n",
    "        \n",
    "        for gene_emb_dim, gene_num_emb in zip(hidde_layer_size_list, gene_num_emb_list):\n",
    "\n",
    "            out = open(o_f,\"a\")\n",
    "            com1 = f\"python3 ./03_VQ-VAE_main_target_numpy_local.py --pert_type={pert_type} \\\n",
    "--gene_emb_dim={gene_emb_dim} --gene_num_emb={gene_num_emb} \\\n",
    "--cell_name={cell} --cell_missing_rate={cell_missing_rate} \\n\"\n",
    "            out.write(str(com1))\n",
    "            out.close()"
   ]
  }
 ],
 "metadata": {
  "kernelspec": {
   "display_name": "Python 3 (ipykernel)",
   "language": "python",
   "name": "python3"
  },
  "language_info": {
   "codemirror_mode": {
    "name": "ipython",
    "version": 3
   },
   "file_extension": ".py",
   "mimetype": "text/x-python",
   "name": "python",
   "nbconvert_exporter": "python",
   "pygments_lexer": "ipython3",
   "version": "3.9.12"
  }
 },
 "nbformat": 4,
 "nbformat_minor": 5
}
